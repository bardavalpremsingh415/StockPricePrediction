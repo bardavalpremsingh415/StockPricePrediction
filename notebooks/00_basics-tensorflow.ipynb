{
  "cells": [
    {
      "cell_type": "markdown",
      "metadata": {
        "colab_type": "text",
        "id": "view-in-github"
      },
      "source": [
        "<a href=\"https://colab.research.google.com/github/gauravreddy08/Stock-Price-Prediction-Model/blob/main/notebooks/00_basics-tensorflow.ipynb\" target=\"_parent\"><img src=\"https://colab.research.google.com/assets/colab-badge.svg\" alt=\"Open In Colab\"/></a>"
      ]
    },
    {
      "cell_type": "markdown",
      "metadata": {
        "id": "I6xtOP6wB8J8"
      },
      "source": [
        "# **Basics of Tensorsflow**"
      ]
    },
    {
      "cell_type": "code",
      "execution_count": 1,
      "metadata": {
        "colab": {
          "base_uri": "https://localhost:8080/"
        },
        "id": "Fl4oSgpjYWxl",
        "outputId": "2da50f9d-27f3-41ec-8cd8-8e93b13c50d7"
      },
      "outputs": [
        {
          "name": "stdout",
          "output_type": "stream",
          "text": [
            "WARNING:tensorflow:From c:\\Users\\HP\\AppData\\Local\\Programs\\Python\\Python311\\Lib\\site-packages\\keras\\src\\losses.py:2976: The name tf.losses.sparse_softmax_cross_entropy is deprecated. Please use tf.compat.v1.losses.sparse_softmax_cross_entropy instead.\n",
            "\n",
            "2.15.0\n"
          ]
        }
      ],
      "source": [
        "import tensorflow as tf\n",
        "print(tf.__version__)"
      ]
    },
    {
      "cell_type": "markdown",
      "metadata": {
        "id": "aDt99JvGAh67"
      },
      "source": [
        "## **Understanding Tensors**\n",
        "In mathematics, a tensor is an algebraic object that describes a relationship between sets of algebraic objects related to a vector space. Objects that tensors may map between include vectors and scalars, and even other tensors. \n",
        "\n",
        "### **Creating tensors with `tf.constant()`**\n"
      ]
    },
    {
      "cell_type": "code",
      "execution_count": 3,
      "metadata": {
        "colab": {
          "base_uri": "https://localhost:8080/"
        },
        "id": "PfyV4JKL67RL",
        "outputId": "749ecb70-d4b3-434a-823a-55e043e3aaa7"
      },
      "outputs": [
        {
          "data": {
            "text/plain": [
              "<tf.Tensor: shape=(2, 2), dtype=int32, numpy=\n",
              "array([[10,  7],\n",
              "       [ 7, 10]])>"
            ]
          },
          "execution_count": 3,
          "metadata": {},
          "output_type": "execute_result"
        }
      ],
      "source": [
        "scalar = tf.constant([10, 10])\n",
        "matrix = tf.constant([[10, 7],[7, 10]])\n",
        "matrix"
      ]
    },
    {
      "cell_type": "markdown",
      "metadata": {
        "id": "xlyVoSzeBJ-x"
      },
      "source": [
        "### **Check the no. of dimensions of a Tensor : `ndim`**"
      ]
    },
    {
      "cell_type": "code",
      "execution_count": 4,
      "metadata": {
        "colab": {
          "base_uri": "https://localhost:8080/"
        },
        "id": "uE93Qpr-7WRw",
        "outputId": "2299fc06-5f1e-4e0f-e4c3-13475d0b2dac"
      },
      "outputs": [
        {
          "data": {
            "text/plain": [
              "(1, 2)"
            ]
          },
          "execution_count": 4,
          "metadata": {},
          "output_type": "execute_result"
        }
      ],
      "source": [
        "scalar.ndim, matrix.ndim"
      ]
    },
    {
      "cell_type": "markdown",
      "metadata": {
        "id": "e0zp0ETNBc4e"
      },
      "source": [
        "* **Scalar :** Single Number\n",
        "* **Vector :** a number with a direction \n",
        "* **Matrix :** a 2-dimensional array of numbers\n",
        "* **Tensor :** an n-dimensional array of numbers"
      ]
    },
    {
      "cell_type": "markdown",
      "metadata": {
        "id": "WHUfqbkQCNjJ"
      },
      "source": [
        " ## **Creating tensors with  `tf.varialble`**"
      ]
    },
    {
      "cell_type": "code",
      "execution_count": 5,
      "metadata": {
        "colab": {
          "base_uri": "https://localhost:8080/"
        },
        "id": "AMyH2fmGCDZM",
        "outputId": "a259a953-30a0-41be-acc7-cea54384793d"
      },
      "outputs": [
        {
          "data": {
            "text/plain": [
              "tensorflow.python.ops.variables.Variable"
            ]
          },
          "execution_count": 5,
          "metadata": {},
          "output_type": "execute_result"
        }
      ],
      "source": [
        "tf.Variable"
      ]
    },
    {
      "cell_type": "code",
      "execution_count": 6,
      "metadata": {
        "colab": {
          "base_uri": "https://localhost:8080/"
        },
        "id": "b3RONnJTCUm5",
        "outputId": "3b036ab8-deab-46fb-f270-91431d286b21"
      },
      "outputs": [
        {
          "data": {
            "text/plain": [
              "(<tf.Variable 'Variable:0' shape=(2,) dtype=int32, numpy=array([10,  7])>,\n",
              " <tf.Tensor: shape=(2,), dtype=int32, numpy=array([10,  7])>)"
            ]
          },
          "execution_count": 6,
          "metadata": {},
          "output_type": "execute_result"
        }
      ],
      "source": [
        "changeable_tensor = tf.Variable([10, 7])\n",
        "unchangeable_tensor = tf.constant([10, 7])\n",
        "\n",
        "changeable_tensor, unchangeable_tensor"
      ]
    },
    {
      "cell_type": "markdown",
      "metadata": {
        "id": "ycR9AoAhBYlb"
      },
      "source": [
        "### **Understanding Variable Tensors**"
      ]
    },
    {
      "cell_type": "code",
      "execution_count": 7,
      "metadata": {
        "colab": {
          "base_uri": "https://localhost:8080/"
        },
        "id": "pBGD_I48CkAu",
        "outputId": "59a4b37c-5687-40c4-8dba-3b26d112755a"
      },
      "outputs": [
        {
          "data": {
            "text/plain": [
              "<tf.Variable 'Variable:0' shape=(2,) dtype=int32, numpy=array([99,  7])>"
            ]
          },
          "execution_count": 7,
          "metadata": {},
          "output_type": "execute_result"
        }
      ],
      "source": [
        "# Changing one of elements in the changeable tensor\n",
        "\n",
        "changeable_tensor[0].assign(99)\n",
        "\n",
        "changeable_tensor\n",
        "# We can't do the same thing with the tf.constant"
      ]
    },
    {
      "cell_type": "markdown",
      "metadata": {
        "id": "Fk80HWM6DjY1"
      },
      "source": [
        "**Note :** If in doubt which one to use, use `tf.constant` and change it later if needed"
      ]
    },
    {
      "cell_type": "markdown",
      "metadata": {
        "id": "B3PE8HUDDbTj"
      },
      "source": [
        "## **Creating Random tensors**\n",
        "\n",
        "Random tensors are tensors of some arbitary size which contains random numbers."
      ]
    },
    {
      "cell_type": "code",
      "execution_count": 8,
      "metadata": {
        "colab": {
          "base_uri": "https://localhost:8080/"
        },
        "id": "4uPCQOxIC48n",
        "outputId": "a062a352-ae12-4dab-f9e0-f8760d201f09"
      },
      "outputs": [
        {
          "data": {
            "text/plain": [
              "(<tf.Tensor: shape=(3, 2), dtype=float32, numpy=\n",
              " array([[0.7493447 , 0.73561966],\n",
              "        [0.45230794, 0.49039817],\n",
              "        [0.1889317 , 0.52027524]], dtype=float32)>,\n",
              " <tf.Tensor: shape=(3, 2), dtype=float32, numpy=\n",
              " array([[-0.7565803 , -0.06854702],\n",
              "        [ 0.07595026, -1.2573844 ],\n",
              "        [-0.23193763, -1.8107855 ]], dtype=float32)>,\n",
              " <tf.Tensor: shape=(3, 2), dtype=bool, numpy=\n",
              " array([[False, False],\n",
              "        [False, False],\n",
              "        [False, False]])>)"
            ]
          },
          "execution_count": 8,
          "metadata": {},
          "output_type": "execute_result"
        }
      ],
      "source": [
        "random1 = tf.random.Generator.from_seed(42) \n",
        "random1 = random1.uniform(shape = [3, 2])\n",
        "random2 = tf.random.Generator.from_seed(42) \n",
        "random2 = random2.normal(shape = [3, 2])\n",
        "random1, random2, random1==random2"
      ]
    },
    {
      "cell_type": "markdown",
      "metadata": {
        "id": "NQw5f0L_EtQ8"
      },
      "source": [
        "### **Shuffling the order of elements in a Tensor**"
      ]
    },
    {
      "cell_type": "code",
      "execution_count": 9,
      "metadata": {
        "colab": {
          "base_uri": "https://localhost:8080/"
        },
        "id": "zaRk2SPnGGv3",
        "outputId": "75461d8e-457e-419b-fa64-dfd0222219af"
      },
      "outputs": [
        {
          "data": {
            "text/plain": [
              "(<tf.Tensor: shape=(3, 2), dtype=int32, numpy=\n",
              " array([[10,  7],\n",
              "        [ 3,  4],\n",
              "        [ 1,  2]])>,\n",
              " 2)"
            ]
          },
          "execution_count": 9,
          "metadata": {},
          "output_type": "execute_result"
        }
      ],
      "source": [
        "not_shuffled = tf.constant([[10, 7],\n",
        "                            [3, 4],\n",
        "                            [1, 2]])\n",
        "\n",
        "not_shuffled, not_shuffled.ndim"
      ]
    },
    {
      "cell_type": "code",
      "execution_count": 10,
      "metadata": {
        "colab": {
          "base_uri": "https://localhost:8080/"
        },
        "id": "zqfFl_hGGrGG",
        "outputId": "0be24afd-c983-4db6-f02b-b17e33dcbf97"
      },
      "outputs": [
        {
          "data": {
            "text/plain": [
              "<tf.Tensor: shape=(3, 2), dtype=int32, numpy=\n",
              "array([[ 3,  4],\n",
              "       [10,  7],\n",
              "       [ 1,  2]])>"
            ]
          },
          "execution_count": 10,
          "metadata": {},
          "output_type": "execute_result"
        }
      ],
      "source": [
        "shuffled = tf.random.shuffle(not_shuffled) \n",
        "\n",
        "shuffled"
      ]
    },
    {
      "cell_type": "code",
      "execution_count": 11,
      "metadata": {
        "colab": {
          "base_uri": "https://localhost:8080/"
        },
        "id": "8Q7qO_RAG8qD",
        "outputId": "cfbbfdc9-b761-4629-cbcf-cd94f9966a07"
      },
      "outputs": [
        {
          "data": {
            "text/plain": [
              "<tf.Tensor: shape=(3, 2), dtype=int32, numpy=\n",
              "array([[10,  7],\n",
              "       [ 3,  4],\n",
              "       [ 1,  2]])>"
            ]
          },
          "execution_count": 11,
          "metadata": {},
          "output_type": "execute_result"
        }
      ],
      "source": [
        "tf.random.set_seed(42)\n",
        "tf.random.shuffle(not_shuffled, seed = 42)"
      ]
    },
    {
      "cell_type": "markdown",
      "metadata": {
        "id": "FdSFQvXxKEJi"
      },
      "source": [
        "## **Other ways to create Tensors**"
      ]
    },
    {
      "cell_type": "code",
      "execution_count": 12,
      "metadata": {
        "colab": {
          "base_uri": "https://localhost:8080/"
        },
        "id": "jN2PaItbKXs1",
        "outputId": "b4e096c5-1948-472e-dc80-5b1e19c39896"
      },
      "outputs": [
        {
          "data": {
            "text/plain": [
              "<tf.Tensor: shape=(10, 3), dtype=float32, numpy=\n",
              "array([[1., 1., 1.],\n",
              "       [1., 1., 1.],\n",
              "       [1., 1., 1.],\n",
              "       [1., 1., 1.],\n",
              "       [1., 1., 1.],\n",
              "       [1., 1., 1.],\n",
              "       [1., 1., 1.],\n",
              "       [1., 1., 1.],\n",
              "       [1., 1., 1.],\n",
              "       [1., 1., 1.]], dtype=float32)>"
            ]
          },
          "execution_count": 12,
          "metadata": {},
          "output_type": "execute_result"
        }
      ],
      "source": [
        "tf.ones([10,3])"
      ]
    },
    {
      "cell_type": "code",
      "execution_count": 13,
      "metadata": {
        "colab": {
          "base_uri": "https://localhost:8080/"
        },
        "id": "D3kcLWsUKZ8u",
        "outputId": "e427e8f0-c8f2-4758-d956-3ced99f1e3fa"
      },
      "outputs": [
        {
          "data": {
            "text/plain": [
              "<tf.Tensor: shape=(10, 5), dtype=float32, numpy=\n",
              "array([[0., 0., 0., 0., 0.],\n",
              "       [0., 0., 0., 0., 0.],\n",
              "       [0., 0., 0., 0., 0.],\n",
              "       [0., 0., 0., 0., 0.],\n",
              "       [0., 0., 0., 0., 0.],\n",
              "       [0., 0., 0., 0., 0.],\n",
              "       [0., 0., 0., 0., 0.],\n",
              "       [0., 0., 0., 0., 0.],\n",
              "       [0., 0., 0., 0., 0.],\n",
              "       [0., 0., 0., 0., 0.]], dtype=float32)>"
            ]
          },
          "execution_count": 13,
          "metadata": {},
          "output_type": "execute_result"
        }
      ],
      "source": [
        "tf.zeros([10,5])"
      ]
    },
    {
      "cell_type": "markdown",
      "metadata": {
        "id": "2qMvCNucKd3z"
      },
      "source": [
        "### **Turning NumPy array into TensorFlow tensors**\n",
        "\n",
        "**NumPy Arrays vs. TensorFlow Tensors**\n",
        "\n",
        "> Tensors have a advantage when run over a GPU."
      ]
    },
    {
      "cell_type": "code",
      "execution_count": 14,
      "metadata": {
        "colab": {
          "base_uri": "https://localhost:8080/"
        },
        "id": "9D9n6Mp8KyJq",
        "outputId": "567401b2-6261-4b71-dd0a-260dc35263cf"
      },
      "outputs": [
        {
          "data": {
            "text/plain": [
              "array([ 1,  2,  3,  4,  5,  6,  7,  8,  9, 10, 11, 12, 13, 14, 15, 16, 17,\n",
              "       18, 19, 20, 21, 22, 23, 24])"
            ]
          },
          "execution_count": 14,
          "metadata": {},
          "output_type": "execute_result"
        }
      ],
      "source": [
        "import numpy as np\n",
        "\n",
        "numpy_A = np.arange(1, 25, dtype=np.int32)\n",
        "numpy_A"
      ]
    },
    {
      "cell_type": "code",
      "execution_count": 15,
      "metadata": {
        "colab": {
          "base_uri": "https://localhost:8080/"
        },
        "id": "I0KXor_8LERJ",
        "outputId": "dc0fb026-0e0e-4136-9b78-fa9f2c8ed1d4"
      },
      "outputs": [
        {
          "data": {
            "text/plain": [
              "<tf.Tensor: shape=(2, 2, 6), dtype=int32, numpy=\n",
              "array([[[ 1,  2,  3,  4,  5,  6],\n",
              "        [ 7,  8,  9, 10, 11, 12]],\n",
              "\n",
              "       [[13, 14, 15, 16, 17, 18],\n",
              "        [19, 20, 21, 22, 23, 24]]])>"
            ]
          },
          "execution_count": 15,
          "metadata": {},
          "output_type": "execute_result"
        }
      ],
      "source": [
        "numpy_tensor = tf.constant(numpy_A, shape=[2, 2, 6])\n",
        "numpy_tensor"
      ]
    },
    {
      "cell_type": "markdown",
      "metadata": {
        "id": "Byo3wlbTLNYp"
      },
      "source": [
        "## **Getting Information from Tensors**\n",
        "\n",
        "* Shape\n",
        "* Rank\n",
        "* Axis/Dimension\n",
        "* Size"
      ]
    },
    {
      "cell_type": "code",
      "execution_count": 16,
      "metadata": {
        "colab": {
          "base_uri": "https://localhost:8080/"
        },
        "id": "NzU6DmqMMuRM",
        "outputId": "bb7e1f89-e329-48f4-80ff-34aec2a6136f"
      },
      "outputs": [
        {
          "data": {
            "text/plain": [
              "<tf.Tensor: shape=(2, 3, 4, 5), dtype=float32, numpy=\n",
              "array([[[[0., 0., 0., 0., 0.],\n",
              "         [0., 0., 0., 0., 0.],\n",
              "         [0., 0., 0., 0., 0.],\n",
              "         [0., 0., 0., 0., 0.]],\n",
              "\n",
              "        [[0., 0., 0., 0., 0.],\n",
              "         [0., 0., 0., 0., 0.],\n",
              "         [0., 0., 0., 0., 0.],\n",
              "         [0., 0., 0., 0., 0.]],\n",
              "\n",
              "        [[0., 0., 0., 0., 0.],\n",
              "         [0., 0., 0., 0., 0.],\n",
              "         [0., 0., 0., 0., 0.],\n",
              "         [0., 0., 0., 0., 0.]]],\n",
              "\n",
              "\n",
              "       [[[0., 0., 0., 0., 0.],\n",
              "         [0., 0., 0., 0., 0.],\n",
              "         [0., 0., 0., 0., 0.],\n",
              "         [0., 0., 0., 0., 0.]],\n",
              "\n",
              "        [[0., 0., 0., 0., 0.],\n",
              "         [0., 0., 0., 0., 0.],\n",
              "         [0., 0., 0., 0., 0.],\n",
              "         [0., 0., 0., 0., 0.]],\n",
              "\n",
              "        [[0., 0., 0., 0., 0.],\n",
              "         [0., 0., 0., 0., 0.],\n",
              "         [0., 0., 0., 0., 0.],\n",
              "         [0., 0., 0., 0., 0.]]]], dtype=float32)>"
            ]
          },
          "execution_count": 16,
          "metadata": {},
          "output_type": "execute_result"
        }
      ],
      "source": [
        "# Create a rank 4 tensor (4 dimensions)\n",
        "rank_4_tensor = tf.zeros([2, 3, 4, 5])\n",
        "rank_4_tensor"
      ]
    },
    {
      "cell_type": "code",
      "execution_count": 17,
      "metadata": {
        "colab": {
          "base_uri": "https://localhost:8080/"
        },
        "id": "XAehMpqYPZmZ",
        "outputId": "e8a70c1e-ef2e-4ebc-e51d-ecadad777a46"
      },
      "outputs": [
        {
          "name": "stdout",
          "output_type": "stream",
          "text": [
            "Data-type of every element : <dtype: 'float32'>\n",
            "Number of dimensions (rank) : 4\n",
            "Shape of tensor : (2, 3, 4, 5)\n",
            "Elements along axis 0 of tensor : 2\n",
            "Elements along last axis of tensor : 5\n",
            "Total number of elements (2*3*4*5) : 120\n"
          ]
        }
      ],
      "source": [
        "# Get various attributes of tensor\n",
        "print(\"Data-type of every element :\", rank_4_tensor.dtype)\n",
        "print(\"Number of dimensions (rank) :\", rank_4_tensor.ndim)\n",
        "print(\"Shape of tensor :\", rank_4_tensor.shape)\n",
        "print(\"Elements along axis 0 of tensor :\", rank_4_tensor.shape[0])\n",
        "print(\"Elements along last axis of tensor :\", rank_4_tensor.shape[-1])\n",
        "print(\"Total number of elements (2*3*4*5) :\", tf.size(rank_4_tensor).numpy()) # .numpy() converts to NumPy array"
      ]
    },
    {
      "cell_type": "markdown",
      "metadata": {
        "id": "HoNXYA8lkId2"
      },
      "source": [
        "## **Indexing our Tensors**\n",
        "\n",
        "> Tensors can be index just like python Lists."
      ]
    },
    {
      "cell_type": "code",
      "execution_count": 18,
      "metadata": {
        "colab": {
          "base_uri": "https://localhost:8080/"
        },
        "id": "JRaJetD4kUSQ",
        "outputId": "b55cbfdf-cc61-4f49-cae2-aa7e344ac7b2"
      },
      "outputs": [
        {
          "data": {
            "text/plain": [
              "<tf.Tensor: shape=(2, 2, 2, 2), dtype=float32, numpy=\n",
              "array([[[[0., 0.],\n",
              "         [0., 0.]],\n",
              "\n",
              "        [[0., 0.],\n",
              "         [0., 0.]]],\n",
              "\n",
              "\n",
              "       [[[0., 0.],\n",
              "         [0., 0.]],\n",
              "\n",
              "        [[0., 0.],\n",
              "         [0., 0.]]]], dtype=float32)>"
            ]
          },
          "execution_count": 18,
          "metadata": {},
          "output_type": "execute_result"
        }
      ],
      "source": [
        "# Get The first two elements in each dimenions of our rank_4_tensor\n",
        "\n",
        "rank_4_tensor[:2, :2, :2, :2]"
      ]
    },
    {
      "cell_type": "code",
      "execution_count": 19,
      "metadata": {
        "colab": {
          "base_uri": "https://localhost:8080/"
        },
        "id": "nRgrXEzKkiBh",
        "outputId": "13a5a3bf-70ec-4913-87aa-0f0d3da5e5e9"
      },
      "outputs": [
        {
          "data": {
            "text/plain": [
              "<tf.Tensor: shape=(1, 1, 1, 5), dtype=float32, numpy=array([[[[0., 0., 0., 0., 0.]]]], dtype=float32)>"
            ]
          },
          "execution_count": 19,
          "metadata": {},
          "output_type": "execute_result"
        }
      ],
      "source": [
        "# Get first elements from each dimension except the final one.\n",
        "rank_4_tensor[:1, :1, :1, :]"
      ]
    },
    {
      "cell_type": "code",
      "execution_count": 22,
      "metadata": {
        "colab": {
          "base_uri": "https://localhost:8080/"
        },
        "id": "73k2vWGwk5xw",
        "outputId": "7228eba5-b349-4e58-c3e2-9c271f7b0d30"
      },
      "outputs": [
        {
          "data": {
            "text/plain": [
              "TensorShape([2, 2])"
            ]
          },
          "execution_count": 22,
          "metadata": {},
          "output_type": "execute_result"
        }
      ],
      "source": [
        "rank_2_tensor = tf.constant([[10, 7],\n",
        "                             [3, 4]])\n",
        "rank_2_tensor.shape"
      ]
    },
    {
      "cell_type": "code",
      "execution_count": 23,
      "metadata": {
        "colab": {
          "base_uri": "https://localhost:8080/"
        },
        "id": "ILlsLmfflJrn",
        "outputId": "709f9cd7-0900-45db-b019-e7e49d0e9914"
      },
      "outputs": [
        {
          "data": {
            "text/plain": [
              "<tf.Tensor: shape=(2, 2, 1), dtype=int32, numpy=\n",
              "array([[[10],\n",
              "        [ 7]],\n",
              "\n",
              "       [[ 3],\n",
              "        [ 4]]])>"
            ]
          },
          "execution_count": 23,
          "metadata": {},
          "output_type": "execute_result"
        }
      ],
      "source": [
        "# Adding extra dimension to our tensor 2dim->3dim\n",
        "rank_3_tensor = rank_2_tensor[..., tf.newaxis]\n",
        "rank_3_tensor"
      ]
    },
    {
      "cell_type": "markdown",
      "metadata": {
        "id": "zRNnBfsFlo7g"
      },
      "source": [
        "## **Manipulating Tensors**\n",
        "\n",
        "### **Basic Operations**"
      ]
    },
    {
      "cell_type": "code",
      "execution_count": 24,
      "metadata": {
        "colab": {
          "base_uri": "https://localhost:8080/"
        },
        "id": "slBBH67gmE-v",
        "outputId": "1ef313df-5a1c-4412-de96-3a1baf7595f8"
      },
      "outputs": [
        {
          "data": {
            "text/plain": [
              "<tf.Tensor: shape=(2, 2), dtype=int32, numpy=\n",
              "array([[20, 17],\n",
              "       [13, 14]])>"
            ]
          },
          "execution_count": 24,
          "metadata": {},
          "output_type": "execute_result"
        }
      ],
      "source": [
        "tensor = tf.constant([[10, 7],\n",
        "                      [3, 4]])\n",
        "tensor+10"
      ]
    },
    {
      "cell_type": "code",
      "execution_count": 25,
      "metadata": {
        "colab": {
          "base_uri": "https://localhost:8080/"
        },
        "id": "ArHEaBAqmf5p",
        "outputId": "ac19f123-fa97-4e25-ec1e-37f6800a76b4"
      },
      "outputs": [
        {
          "data": {
            "text/plain": [
              "(<tf.Tensor: shape=(2, 2), dtype=int32, numpy=\n",
              " array([[100,  70],\n",
              "        [ 30,  40]])>,\n",
              " <tf.Tensor: shape=(2, 2), dtype=int32, numpy=\n",
              " array([[10,  7],\n",
              "        [ 3,  4]])>)"
            ]
          },
          "execution_count": 25,
          "metadata": {},
          "output_type": "execute_result"
        }
      ],
      "source": [
        "# We can use TF Built-in functions\n",
        "\n",
        "tf.multiply(tensor, 10), tensor"
      ]
    },
    {
      "cell_type": "markdown",
      "metadata": {
        "id": "m2gTHxfBmo27"
      },
      "source": [
        "### **Speed test** : Python Operations v/s TF Operations"
      ]
    },
    {
      "cell_type": "code",
      "execution_count": 26,
      "metadata": {
        "id": "sAAtLreBm66Z"
      },
      "outputs": [],
      "source": [
        "tensor_test = tf.constant([[0, 1],\n",
        "                           [1, 0]])\n",
        "import timeit"
      ]
    },
    {
      "cell_type": "code",
      "execution_count": 27,
      "metadata": {
        "id": "cBiSw__DnK6X"
      },
      "outputs": [],
      "source": [
        "def speed_test(tensor_test, value):\n",
        "  start = timeit.default_timer()\n",
        "  for i in range(value):\n",
        "    tensor_test+=1\n",
        "  stop = timeit.default_timer()\n",
        "  v1=stop-start\n",
        "  print('Python Op Time: ', stop - start)  \n",
        "\n",
        "  start = timeit.default_timer()\n",
        "  for i in range(value):\n",
        "    tensor_test = tf.add(tensor, 1)\n",
        "  stop = timeit.default_timer()\n",
        "  v2=stop-start\n",
        "  print('TF Op Time: ', stop - start)  \n",
        "  print(\"TF is \"+str(v1/v2)+\" times faster than Python\")"
      ]
    },
    {
      "cell_type": "code",
      "execution_count": 28,
      "metadata": {
        "id": "Yn93mkrOn6tO"
      },
      "outputs": [],
      "source": [
        "# speed_test(tensor_test, 1000000)\n",
        "\n",
        "# OUTPUT:\n",
        "# Python Op Time:  29.134950077000212\n",
        "# TF Op Time:  8.4106564169997\n",
        "# TF is 3.4640518685452864 times faster than Python"
      ]
    },
    {
      "cell_type": "markdown",
      "metadata": {
        "id": "mc_fE2zUeztz"
      },
      "source": [
        "### **Aggregating Tensors**\n",
        "\n",
        "Condensing them from Multiple Values to a Smaller Amount of Values."
      ]
    },
    {
      "cell_type": "code",
      "execution_count": 29,
      "metadata": {
        "colab": {
          "base_uri": "https://localhost:8080/"
        },
        "id": "zwx4sSyEc1It",
        "outputId": "e49917b6-ffff-4e64-adbf-ae7a0699a060"
      },
      "outputs": [
        {
          "data": {
            "text/plain": [
              "<tf.Tensor: shape=(2,), dtype=int32, numpy=array([ -1, -10])>"
            ]
          },
          "execution_count": 29,
          "metadata": {},
          "output_type": "execute_result"
        }
      ],
      "source": [
        "tensor = tf.constant([-1, -10])\n",
        "tensor"
      ]
    },
    {
      "cell_type": "code",
      "execution_count": 30,
      "metadata": {
        "colab": {
          "base_uri": "https://localhost:8080/"
        },
        "id": "Ky1OY6xcfKZV",
        "outputId": "5ecbe474-780e-437f-e8aa-35afb94380d6"
      },
      "outputs": [
        {
          "data": {
            "text/plain": [
              "<tf.Tensor: shape=(2,), dtype=int32, numpy=array([ 1, 10])>"
            ]
          },
          "execution_count": 30,
          "metadata": {},
          "output_type": "execute_result"
        }
      ],
      "source": [
        "tf.abs(tensor)"
      ]
    },
    {
      "cell_type": "code",
      "execution_count": 31,
      "metadata": {
        "colab": {
          "base_uri": "https://localhost:8080/"
        },
        "id": "SwgRbc0efPM_",
        "outputId": "5810871b-c11e-4e93-b1c0-155d5717c676"
      },
      "outputs": [
        {
          "data": {
            "text/plain": [
              "(<tf.Tensor: shape=(), dtype=int32, numpy=-10>,\n",
              " <tf.Tensor: shape=(), dtype=int32, numpy=-1>,\n",
              " <tf.Tensor: shape=(), dtype=int32, numpy=-11>)"
            ]
          },
          "execution_count": 31,
          "metadata": {},
          "output_type": "execute_result"
        }
      ],
      "source": [
        "tf.reduce_min(tensor), tf.reduce_max(tensor), tf.reduce_sum(tensor)"
      ]
    },
    {
      "cell_type": "code",
      "execution_count": 33,
      "metadata": {
        "colab": {
          "base_uri": "https://localhost:8080/"
        },
        "id": "Vcq9XVAXfcDx",
        "outputId": "d5c34ba4-aa0b-4f4e-edf1-84c08943a108"
      },
      "outputs": [
        {
          "name": "stdout",
          "output_type": "stream",
          "text": [
            "WARNING:tensorflow:From c:\\Users\\HP\\AppData\\Local\\Programs\\Python\\Python311\\Lib\\site-packages\\tensorflow_probability\\python\\internal\\backend\\numpy\\_utils.py:48: The name tf.logging.TaskLevelStatusMessage is deprecated. Please use tf.compat.v1.logging.TaskLevelStatusMessage instead.\n",
            "\n",
            "WARNING:tensorflow:From c:\\Users\\HP\\AppData\\Local\\Programs\\Python\\Python311\\Lib\\site-packages\\tensorflow_probability\\python\\internal\\backend\\numpy\\_utils.py:48: The name tf.control_flow_v2_enabled is deprecated. Please use tf.compat.v1.control_flow_v2_enabled instead.\n",
            "\n"
          ]
        },
        {
          "data": {
            "text/plain": [
              "(<tf.Tensor: shape=(), dtype=int32, numpy=20>,\n",
              " <tf.Tensor: shape=(), dtype=float32, numpy=4.472136>)"
            ]
          },
          "execution_count": 33,
          "metadata": {},
          "output_type": "execute_result"
        }
      ],
      "source": [
        "import tensorflow_probability as tfp\n",
        "\n",
        "tfp.stats.variance(tensor), tf.sqrt(tf.cast(tfp.stats.variance(tensor), dtype=tf.float32))"
      ]
    },
    {
      "cell_type": "markdown",
      "metadata": {
        "id": "yCBAFfTAgx6Z"
      },
      "source": [
        "### **Positional Maximum and Minimum**"
      ]
    },
    {
      "cell_type": "code",
      "execution_count": 34,
      "metadata": {
        "colab": {
          "base_uri": "https://localhost:8080/"
        },
        "id": "5d7-9wFOf-s9",
        "outputId": "d067886a-a86c-4df0-f272-db11fdedbbb1"
      },
      "outputs": [
        {
          "data": {
            "text/plain": [
              "<tf.Tensor: shape=(50,), dtype=float32, numpy=\n",
              "array([0.6645621 , 0.44100678, 0.3528825 , 0.46448255, 0.03366041,\n",
              "       0.68467236, 0.74011743, 0.8724445 , 0.22632635, 0.22319686,\n",
              "       0.3103881 , 0.7223358 , 0.13318717, 0.5480639 , 0.5746088 ,\n",
              "       0.8996835 , 0.00946367, 0.5212307 , 0.6345445 , 0.1993283 ,\n",
              "       0.72942245, 0.54583454, 0.10756552, 0.6767061 , 0.6602763 ,\n",
              "       0.33695042, 0.60141766, 0.21062577, 0.8527372 , 0.44062173,\n",
              "       0.9485276 , 0.23752594, 0.81179297, 0.5263394 , 0.494308  ,\n",
              "       0.21612847, 0.8457197 , 0.8718841 , 0.3083862 , 0.6868038 ,\n",
              "       0.23764038, 0.7817228 , 0.9671384 , 0.06870162, 0.79873943,\n",
              "       0.66028714, 0.5871513 , 0.16461694, 0.7381023 , 0.32054043],\n",
              "      dtype=float32)>"
            ]
          },
          "execution_count": 34,
          "metadata": {},
          "output_type": "execute_result"
        }
      ],
      "source": [
        "tf.random.set_seed(42)\n",
        "tensor = tf.random.uniform(shape=[50])\n",
        "tensor"
      ]
    },
    {
      "cell_type": "code",
      "execution_count": 35,
      "metadata": {
        "colab": {
          "base_uri": "https://localhost:8080/"
        },
        "id": "PZ5KExCHhmR9",
        "outputId": "138cbf48-e5c2-4117-d448-bf42730e5015"
      },
      "outputs": [
        {
          "data": {
            "text/plain": [
              "(<tf.Tensor: shape=(), dtype=int64, numpy=42>,\n",
              " <tf.Tensor: shape=(), dtype=float32, numpy=0.9671384>,\n",
              " <tf.Tensor: shape=(), dtype=float32, numpy=0.9671384>)"
            ]
          },
          "execution_count": 35,
          "metadata": {},
          "output_type": "execute_result"
        }
      ],
      "source": [
        "tf.argmax(tensor), tf.reduce_max(tensor), tensor[tf.argmax(tensor)]"
      ]
    },
    {
      "cell_type": "markdown",
      "metadata": {
        "id": "q-5KZmAApGq2"
      },
      "source": [
        "### **Squeezing the Tensors**"
      ]
    },
    {
      "cell_type": "code",
      "execution_count": 36,
      "metadata": {
        "colab": {
          "base_uri": "https://localhost:8080/"
        },
        "id": "DiNKRvCGhwWl",
        "outputId": "467a9833-0584-4f68-f326-ff5681259d1d"
      },
      "outputs": [
        {
          "data": {
            "text/plain": [
              "<tf.Tensor: shape=(1, 1, 1, 1, 50), dtype=float32, numpy=\n",
              "array([[[[[0.68789124, 0.48447883, 0.9309944 , 0.252187  , 0.73115396,\n",
              "           0.89256823, 0.94674826, 0.7493341 , 0.34925628, 0.54718256,\n",
              "           0.26160395, 0.69734323, 0.11962581, 0.53484344, 0.7148968 ,\n",
              "           0.87501776, 0.33967495, 0.17377627, 0.4418521 , 0.9008261 ,\n",
              "           0.13803864, 0.12217975, 0.5754491 , 0.9417181 , 0.9186585 ,\n",
              "           0.59708476, 0.6109482 , 0.82086265, 0.83269787, 0.8915849 ,\n",
              "           0.01377225, 0.49807465, 0.57503664, 0.6856195 , 0.75972784,\n",
              "           0.908944  , 0.40900218, 0.8765154 , 0.53890026, 0.42733097,\n",
              "           0.401173  , 0.66623247, 0.16348064, 0.18220246, 0.97040176,\n",
              "           0.06139731, 0.53034747, 0.9869994 , 0.4746945 , 0.8646754 ]]]]],\n",
              "      dtype=float32)>"
            ]
          },
          "execution_count": 36,
          "metadata": {},
          "output_type": "execute_result"
        }
      ],
      "source": [
        "G = tf.constant(tf.random.uniform(shape=[50]), shape = (1, 1, 1, 1, 50))\n",
        "G"
      ]
    },
    {
      "cell_type": "code",
      "execution_count": 37,
      "metadata": {
        "colab": {
          "base_uri": "https://localhost:8080/"
        },
        "id": "ee15MmdipcXF",
        "outputId": "018c7b99-1bfc-4194-f0d8-33195e55ccf0"
      },
      "outputs": [
        {
          "data": {
            "text/plain": [
              "<tf.Tensor: shape=(50,), dtype=float32, numpy=\n",
              "array([0.68789124, 0.48447883, 0.9309944 , 0.252187  , 0.73115396,\n",
              "       0.89256823, 0.94674826, 0.7493341 , 0.34925628, 0.54718256,\n",
              "       0.26160395, 0.69734323, 0.11962581, 0.53484344, 0.7148968 ,\n",
              "       0.87501776, 0.33967495, 0.17377627, 0.4418521 , 0.9008261 ,\n",
              "       0.13803864, 0.12217975, 0.5754491 , 0.9417181 , 0.9186585 ,\n",
              "       0.59708476, 0.6109482 , 0.82086265, 0.83269787, 0.8915849 ,\n",
              "       0.01377225, 0.49807465, 0.57503664, 0.6856195 , 0.75972784,\n",
              "       0.908944  , 0.40900218, 0.8765154 , 0.53890026, 0.42733097,\n",
              "       0.401173  , 0.66623247, 0.16348064, 0.18220246, 0.97040176,\n",
              "       0.06139731, 0.53034747, 0.9869994 , 0.4746945 , 0.8646754 ],\n",
              "      dtype=float32)>"
            ]
          },
          "execution_count": 37,
          "metadata": {},
          "output_type": "execute_result"
        }
      ],
      "source": [
        "G_squeezed = tf.squeeze(G)\n",
        "G_squeezed"
      ]
    },
    {
      "cell_type": "markdown",
      "metadata": {
        "id": "Sh3SK3tWp3_w"
      },
      "source": [
        "## **One Hot Encoding the Tensors** "
      ]
    },
    {
      "cell_type": "code",
      "execution_count": 38,
      "metadata": {
        "colab": {
          "base_uri": "https://localhost:8080/"
        },
        "id": "z0Q9hJjupxkF",
        "outputId": "4019cd01-af2d-4201-c869-51ad958a2565"
      },
      "outputs": [
        {
          "data": {
            "text/plain": [
              "<tf.Tensor: shape=(5, 5), dtype=float32, numpy=\n",
              "array([[1., 0., 0., 0., 0.],\n",
              "       [0., 1., 0., 0., 0.],\n",
              "       [0., 0., 1., 0., 0.],\n",
              "       [0., 0., 0., 1., 0.],\n",
              "       [0., 0., 0., 0., 1.]], dtype=float32)>"
            ]
          },
          "execution_count": 38,
          "metadata": {},
          "output_type": "execute_result"
        }
      ],
      "source": [
        "# Create a list of indices\n",
        "some_list = [0, 1, 2, 3, 4]\n",
        "tf.one_hot(some_list, depth = 5)"
      ]
    },
    {
      "cell_type": "code",
      "execution_count": 39,
      "metadata": {
        "colab": {
          "base_uri": "https://localhost:8080/"
        },
        "id": "B1uTqxyYqNFQ",
        "outputId": "6b9c877e-6697-41f6-9bf7-9dd08d35f78b"
      },
      "outputs": [
        {
          "data": {
            "text/plain": [
              "<tf.Tensor: shape=(5, 5), dtype=string, numpy=\n",
              "array([[b'Y', b'N', b'N', b'N', b'N'],\n",
              "       [b'N', b'Y', b'N', b'N', b'N'],\n",
              "       [b'N', b'N', b'Y', b'N', b'N'],\n",
              "       [b'N', b'N', b'N', b'Y', b'N'],\n",
              "       [b'N', b'N', b'N', b'N', b'Y']], dtype=object)>"
            ]
          },
          "execution_count": 39,
          "metadata": {},
          "output_type": "execute_result"
        }
      ],
      "source": [
        "tf.one_hot(some_list, depth=5, on_value='Y', off_value='N')"
      ]
    }
  ],
  "metadata": {
    "accelerator": "GPU",
    "colab": {
      "authorship_tag": "ABX9TyMlpj4BvcwK1d+zPHdRUblp",
      "include_colab_link": true,
      "name": "00_basic-tensorflow.ipynb",
      "provenance": [],
      "toc_visible": true
    },
    "kernelspec": {
      "display_name": "Python 3",
      "name": "python3"
    },
    "language_info": {
      "codemirror_mode": {
        "name": "ipython",
        "version": 3
      },
      "file_extension": ".py",
      "mimetype": "text/x-python",
      "name": "python",
      "nbconvert_exporter": "python",
      "pygments_lexer": "ipython3",
      "version": "3.11.4"
    }
  },
  "nbformat": 4,
  "nbformat_minor": 0
}
